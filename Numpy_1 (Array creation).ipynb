{
 "cells": [
  {
   "cell_type": "markdown",
   "id": "a1b257e1",
   "metadata": {},
   "source": [
    "# Numpy exercises"
   ]
  },
  {
   "cell_type": "markdown",
   "id": "420dfb0c",
   "metadata": {},
   "source": [
    "Difference between numpy and arrays"
   ]
  },
  {
   "cell_type": "code",
   "execution_count": 52,
   "id": "88563c48",
   "metadata": {},
   "outputs": [
    {
     "name": "stderr",
     "output_type": "stream",
     "text": [
      "100%|████████████████████████████████████████████████████████████████████████████████████████████| 6/6 [00:00<?, ?it/s]"
     ]
    },
    {
     "name": "stdout",
     "output_type": "stream",
     "text": [
      "[8, 15, 24, 8, 16, 40]\n"
     ]
    },
    {
     "name": "stderr",
     "output_type": "stream",
     "text": [
      "\n"
     ]
    }
   ],
   "source": [
    "from time import time\n",
    "import numpy as np\n",
    "from tqdm import tqdm \n",
    "##tried to import tqdm and time to estimate time of operation, the verobisty is low however if anybody knows how to show more detailed time please let me know\n",
    "\n",
    "t1 = time()\n",
    "a =[2,3,4,8,8,8]\n",
    "b=[4,5,6,1,2,5]\n",
    "c=[]\n",
    "for i in tqdm(range(len(a))):\n",
    "    c.append(a[i]*b[i])\n",
    "t2 = time()\n",
    "print(c)\n"
   ]
  },
  {
   "cell_type": "code",
   "execution_count": 53,
   "id": "141e90a9",
   "metadata": {},
   "outputs": [
    {
     "name": "stdout",
     "output_type": "stream",
     "text": [
      "[ 8 15 24  8 16 40]\n"
     ]
    }
   ],
   "source": [
    "a_arr = np.array(a) ## changing it into an array\n",
    "b_arr = np.array(b)\n",
    "c_arr = a_arr*b_arr ## array multiplication\n",
    "print(c_arr)"
   ]
  },
  {
   "cell_type": "markdown",
   "id": "5d60369d",
   "metadata": {},
   "source": [
    "Operations on nparray"
   ]
  },
  {
   "cell_type": "code",
   "execution_count": 54,
   "id": "3f7b7fca",
   "metadata": {},
   "outputs": [
    {
     "name": "stdout",
     "output_type": "stream",
     "text": [
      "1\n",
      "6\n",
      "(6,)\n",
      "int32\n",
      "4\n",
      "<memory at 0x0000025829607940>\n"
     ]
    }
   ],
   "source": [
    "print(c_arr.ndim) ## how many axis you have, here only 1-D vector so == 1 \n",
    "print(c_arr.size) ## how many elements in total\n",
    "print(c_arr.shape) ## tells you what is the shape of the data in terms of a tuple, here as you can see only six elements\n",
    "print(c_arr.dtype) ## tells you what specific data type you are working with\n",
    "print(c_arr.itemsize) ## tells you the specific byte size of one tem in the array\n",
    "print(c_arr.data) ## kind of not useful (at least for me), let me know if this is useful somehow"
   ]
  },
  {
   "cell_type": "markdown",
   "id": "bdb427c3",
   "metadata": {},
   "source": [
    "Array creation"
   ]
  },
  {
   "cell_type": "code",
   "execution_count": 73,
   "id": "8d098517",
   "metadata": {},
   "outputs": [
    {
     "name": "stdout",
     "output_type": "stream",
     "text": [
      "[[0. 0. 0. 0.]\n",
      " [0. 0. 0. 0.]\n",
      " [0. 0. 0. 0.]\n",
      " [0. 0. 0. 0.]]\n",
      "----\n",
      "[[1. 1. 1. 1.]\n",
      " [1. 1. 1. 1.]\n",
      " [1. 1. 1. 1.]\n",
      " [1. 1. 1. 1.]]\n",
      "----\n",
      "[[1. 0. 0. 0.]\n",
      " [0. 1. 0. 0.]\n",
      " [0. 0. 1. 0.]\n",
      " [0. 0. 0. 1.]]\n",
      "----\n",
      "[ 1 11 21 31 41]\n",
      "----\n",
      "[[1. 0. 0. 0.]\n",
      " [0. 1. 0. 0.]\n",
      " [0. 0. 1. 0.]\n",
      " [0. 0. 0. 1.]]\n",
      "----\n",
      "[1.         1.55555556 2.11111111 2.66666667 3.22222222 3.77777778\n",
      " 4.33333333 4.88888889 5.44444444 6.        ]\n",
      "----\n",
      "[0 0 0 0 0 0]\n"
     ]
    }
   ],
   "source": [
    "print(np.zeros((4,4))) ## zeros 4x4\n",
    "print('----')\n",
    "print(np.ones((4,4))) ## ones 4x4\n",
    "print('----')\n",
    "print(np.eye((4))) ## identity 4x4 (only works for aquare matrices (duh!))\n",
    "print('----')\n",
    "print(np.arange(1,50,10)) ## from to with a step (not including to btw)\n",
    "print('----')\n",
    "print(np.empty((4,4))) ## idk about this for sure, but it supposed to be random ints???\n",
    "print('----')\n",
    "print(np.linspace(1,6,num=10)) ##  from to (including to) but with equal spacing YOU decide\n",
    "print('----')\n",
    "print(np.zeros_like(c_arr)) ## zeros/ones/empty as one array you worked before, good for images and so on ...\n",
    "\n"
   ]
  },
  {
   "cell_type": "code",
   "execution_count": null,
   "id": "017e9993",
   "metadata": {},
   "outputs": [],
   "source": []
  }
 ],
 "metadata": {
  "kernelspec": {
   "display_name": "Python 3",
   "language": "python",
   "name": "python3"
  },
  "language_info": {
   "codemirror_mode": {
    "name": "ipython",
    "version": 3
   },
   "file_extension": ".py",
   "mimetype": "text/x-python",
   "name": "python",
   "nbconvert_exporter": "python",
   "pygments_lexer": "ipython3",
   "version": "3.8.5"
  }
 },
 "nbformat": 4,
 "nbformat_minor": 5
}
